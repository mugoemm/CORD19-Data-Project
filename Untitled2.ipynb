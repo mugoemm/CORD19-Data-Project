{
 "cells": [
  {
   "cell_type": "code",
   "execution_count": 1,
   "id": "99eff57b-fc07-4ae7-8111-4f7302555a89",
   "metadata": {},
   "outputs": [],
   "source": [
    "import pandas as pd"
   ]
  },
  {
   "cell_type": "code",
   "execution_count": 2,
   "id": "59eafd54-95df-4659-abd9-ebeffa47f38f",
   "metadata": {},
   "outputs": [],
   "source": [
    "columns_to_keep = [\n",
    "    \"cord_uid\",\n",
    "    \"sha\",\n",
    "    \"source_x\",\n",
    "    \"title\",\n",
    "    \"abstract\",\n",
    "    \"publish_time\",\n",
    "    \"journal\",\n",
    "    \"authors\"\n",
    "]\n"
   ]
  },
  {
   "cell_type": "code",
   "execution_count": 3,
   "id": "1ffa7970-af13-4aac-8e69-76cf4739f314",
   "metadata": {},
   "outputs": [],
   "source": [
    "df = pd.read_csv(\"metadata.csv\", usecols=columns_to_keep, nrows=2000)\n",
    "df.to_csv(\"metadata_subset_small.csv\", index=False)"
   ]
  },
  {
   "cell_type": "code",
   "execution_count": 4,
   "id": "eaab5eeb-2fa8-467b-9c65-2bae234ef824",
   "metadata": {},
   "outputs": [
    {
     "name": "stdout",
     "output_type": "stream",
     "text": [
      "GitHub-friendly dataset (~90MB) created!\n"
     ]
    }
   ],
   "source": [
    "print(\"GitHub-friendly dataset (~90MB) created!\")"
   ]
  },
  {
   "cell_type": "code",
   "execution_count": null,
   "id": "7103c7e0-b247-4ccd-b163-f44de0f2b60f",
   "metadata": {},
   "outputs": [],
   "source": []
  }
 ],
 "metadata": {
  "kernelspec": {
   "display_name": "Python 3 (ipykernel)",
   "language": "python",
   "name": "python3"
  },
  "language_info": {
   "codemirror_mode": {
    "name": "ipython",
    "version": 3
   },
   "file_extension": ".py",
   "mimetype": "text/x-python",
   "name": "python",
   "nbconvert_exporter": "python",
   "pygments_lexer": "ipython3",
   "version": "3.13.5"
  }
 },
 "nbformat": 4,
 "nbformat_minor": 5
}
